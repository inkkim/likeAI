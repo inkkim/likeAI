{
  "nbformat": 4,
  "nbformat_minor": 0,
  "metadata": {
    "colab": {
      "name": "코랩 연습.ipynb",
      "provenance": [],
      "collapsed_sections": [],
      "authorship_tag": "ABX9TyMvboQFF7+Vk9N3FqOjE2vH",
      "include_colab_link": true
    },
    "kernelspec": {
      "name": "python3",
      "display_name": "Python 3"
    }
  },
  "cells": [
    {
      "cell_type": "markdown",
      "metadata": {
        "id": "view-in-github",
        "colab_type": "text"
      },
      "source": [
        "<a href=\"https://colab.research.google.com/github/inkkim/likeAI/blob/master/%EC%BD%94%EB%9E%A9_%EC%97%B0%EC%8A%B5.ipynb\" target=\"_parent\"><img src=\"https://colab.research.google.com/assets/colab-badge.svg\" alt=\"Open In Colab\"/></a>"
      ]
    },
    {
      "cell_type": "markdown",
      "metadata": {
        "id": "oa2cCevvkJzU",
        "colab_type": "text"
      },
      "source": [
        "#텍스트 셀"
      ]
    },
    {
      "cell_type": "markdown",
      "metadata": {
        "id": "chQOUPsLuepS",
        "colab_type": "text"
      },
      "source": [
        "**(강조)** __(강조)__"
      ]
    },
    {
      "cell_type": "markdown",
      "metadata": {
        "id": "RawgXVOauk6B",
        "colab_type": "text"
      },
      "source": [
        "~~(글씨)~~"
      ]
    },
    {
      "cell_type": "markdown",
      "metadata": {
        "id": "cqUFHd-SupTn",
        "colab_type": "text"
      },
      "source": [
        "*(이탤릭체)*_(이탤릭체)_"
      ]
    },
    {
      "cell_type": "markdown",
      "metadata": {
        "id": "MVU4vJgDu1xT",
        "colab_type": "text"
      },
      "source": [
        "<번호가 없는 리스트>\n",
        "* 첫째 리스트\n",
        "* 둘째 리스트\n",
        " * 둘째 리스트의 첫째 하위 리스트\n",
        " * 둘째 리스트의 둘째 하위 리스트"
      ]
    },
    {
      "cell_type": "markdown",
      "metadata": {
        "id": "t0VTQhE4veCu",
        "colab_type": "text"
      },
      "source": [
        ">왜 그래, 맥시무스"
      ]
    },
    {
      "cell_type": "markdown",
      "metadata": {
        "id": "BSpWuCn9vsBB",
        "colab_type": "text"
      },
      "source": [
        "* * *"
      ]
    },
    {
      "cell_type": "markdown",
      "metadata": {
        "id": "XZLlEBhFvwW3",
        "colab_type": "text"
      },
      "source": [
        "[인간설탕의 달달한 시선](blog.naver.com/sda1547)"
      ]
    },
    {
      "cell_type": "markdown",
      "metadata": {
        "id": "F5cLZK6FwKWR",
        "colab_type": "text"
      },
      "source": [
        "![Alt text](img.jpg)"
      ]
    },
    {
      "cell_type": "code",
      "metadata": {
        "id": "lgp6KgmG0BgR",
        "colab_type": "code",
        "colab": {}
      },
      "source": [
        "# 환영인사 함수\n",
        "def hello(name):\n",
        "  return f'환영합니다. {name}님!'"
      ],
      "execution_count": 0,
      "outputs": []
    },
    {
      "cell_type": "code",
      "metadata": {
        "id": "HSeiOcsNzYjU",
        "colab_type": "code",
        "colab": {
          "base_uri": "https://localhost:8080/",
          "height": 52
        },
        "outputId": "79988d49-49ee-46ce-ae97-81005de080a1"
      },
      "source": [
        "name = input('이름을 입력해주세요')\n",
        "hello(name)"
      ],
      "execution_count": 6,
      "outputs": [
        {
          "output_type": "stream",
          "text": [
            "이름을 입력해주세요 인규\n"
          ],
          "name": "stdout"
        },
        {
          "output_type": "execute_result",
          "data": {
            "text/plain": [
              "'환영합니다.  인규님!'"
            ]
          },
          "metadata": {
            "tags": []
          },
          "execution_count": 6
        }
      ]
    }
  ]
}